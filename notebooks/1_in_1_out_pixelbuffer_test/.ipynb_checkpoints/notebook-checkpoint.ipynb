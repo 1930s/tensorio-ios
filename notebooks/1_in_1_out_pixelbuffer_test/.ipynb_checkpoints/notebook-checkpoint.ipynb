{
 "cells": [
  {
   "cell_type": "markdown",
   "metadata": {},
   "source": [
    "# Pixelbuffer Graph\n",
    "\n",
    "A graph that accepts two pixel buffers normalized to `[0,1]` values and combines them as though it were exponentially decaying a new input and a previous input. The output is a weighted pixel buffer of the same dimensions also normalized to `[0,1]`, which will need to be de-normalized back to a normal pixel buffer."
   ]
  },
  {
   "cell_type": "markdown",
   "metadata": {},
   "source": [
    "## Build and save the graph\n",
    "\n",
    "Ensure you are working in a virtual environment with tensorflow >= 1.9 installed, and in the notebook's directory on the command line:\n",
    "\n",
    "```bash\n",
    "rm -r saved_graph\n",
    "```"
   ]
  },
  {
   "cell_type": "code",
   "execution_count": 1,
   "metadata": {},
   "outputs": [],
   "source": [
    "import tensorflow as tf\n",
    "import numpy as np"
   ]
  },
  {
   "cell_type": "code",
   "execution_count": 2,
   "metadata": {},
   "outputs": [
    {
     "name": "stdout",
     "output_type": "stream",
     "text": [
      "INFO:tensorflow:Assets added to graph.\n",
      "INFO:tensorflow:No assets to write.\n",
      "INFO:tensorflow:SavedModel written to: ./saved_graph/saved_model.pb\n"
     ]
    }
   ],
   "source": [
    "X = tf.placeholder(tf.float32, shape=(224,224,3), name=\"input_x\") # new input\n",
    "Y = tf.placeholder(tf.float32, shape=(224,224,3), name=\"input_y\") # previous input\n",
    "\n",
    "X_weighted = tf.multiply(X, 0.1)\n",
    "Y_weighted = tf.multiply(Y, 0.9)\n",
    "\n",
    "Z = tf.add(X_weighted, Y_weighted, name=\"output_z\")\n",
    "\n",
    "init = tf.global_variables_initializer()\n",
    "\n",
    "with tf.Session() as sess:\n",
    "    sess.run(init)\n",
    "    z_eval = sess.run([Z], feed_dict={\n",
    "        X: np.full([224,224,3], 0.75, dtype=np.float32), \n",
    "        Y: np.full([224,224,3], 0.25, dtype=np.float32)\n",
    "    })\n",
    "    \n",
    "    tf.saved_model.simple_save(sess, \"./saved_graph\", inputs={\"input_x\": X, \"input_y\": Y}, outputs={\"output_z\": Z})\n",
    "    \n",
    "    # print(z_eval)\n",
    "    "
   ]
  },
  {
   "cell_type": "code",
   "execution_count": null,
   "metadata": {},
   "outputs": [],
   "source": [
    "# Test Code\n",
    "\n",
    "sess = tf.InteractiveSession()\n",
    "\n",
    "A = tf.fill([224,224,3], 0.75)\n",
    "B = tf.fill([224,224,3], 0.25)\n",
    "\n",
    "A_weighted = tf.multiply(A, 0.1)\n",
    "B_weighted = tf.multiply(B, 0.9)\n",
    "\n",
    "C = tf.add(A_weighted, B_weighted)\n",
    "\n",
    "print(C.eval())\n",
    "\n",
    "sess.close()"
   ]
  },
  {
   "cell_type": "markdown",
   "metadata": {},
   "source": [
    "## Freeze The Graph\n",
    "\n",
    "Having used the `tf.saved_model.simple_save` function, now use the `freeze_graph` cli. Tensorflow also provides a python interface to the freeze_graph function.\n",
    "\n",
    "On the command line:\n",
    "\n",
    "```bash\n",
    "mkdir frozen_graph\n",
    "\n",
    "freeze_graph \\\n",
    "    --input_saved_model_dir=saved_graph \\\n",
    "    --saved_model_tags=serve \\\n",
    "    --output_graph=frozen_graph/frozen_graph.pb \\\n",
    "    --output_node_names=output_z\n",
    "```"
   ]
  },
  {
   "cell_type": "markdown",
   "metadata": {},
   "source": [
    "## Convert the Model to a TensorFlow Lite Format\n",
    "\n",
    "Use the `toco` command line utility to convert the frozen graph to a tensorflow lite compatible file:\n",
    "\n",
    "```bash\n",
    "mkdir tflite\n",
    "\n",
    "toco \\\n",
    "\t--graph_def_file=frozen_graph/frozen_graph.pb \\\n",
    "\t--output_file=tflite/model.tflite \\\n",
    "\t--input_arrays=input_x,input_y \\\n",
    "\t--input_shapes=224,224,3:224,224,3 \\\n",
    "\t--output_arrays=output_z\n",
    "```"
   ]
  }
 ],
 "metadata": {
  "kernelspec": {
   "display_name": "Python 3",
   "language": "python",
   "name": "python3"
  },
  "language_info": {
   "codemirror_mode": {
    "name": "ipython",
    "version": 3
   },
   "file_extension": ".py",
   "mimetype": "text/x-python",
   "name": "python",
   "nbconvert_exporter": "python",
   "pygments_lexer": "ipython3",
   "version": "3.6.6"
  }
 },
 "nbformat": 4,
 "nbformat_minor": 2
}
